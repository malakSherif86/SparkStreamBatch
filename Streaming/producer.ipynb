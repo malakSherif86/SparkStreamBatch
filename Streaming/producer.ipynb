{
 "cells": [
  {
   "cell_type": "code",
   "execution_count": null,
   "id": "cc52a6f8-3a98-430c-9f06-22dde160f457",
   "metadata": {},
   "outputs": [
    {
     "name": "stdout",
     "output_type": "stream",
     "text": [
      "Defaulting to user installation because normal site-packages is not writeable\n",
      "Collecting confluent_kafka\n",
      "  Downloading confluent_kafka-2.4.0-cp36-cp36m-manylinux_2_17_x86_64.manylinux2014_x86_64.whl (4.0 MB)\n",
      "     |################################| 4.0 MB 91 kB/s             \n",
      "\u001b[?25hInstalling collected packages: confluent-kafka\n",
      "Successfully installed confluent-kafka-2.4.0\n",
      "Note: you may need to restart the kernel to use updated packages.\n"
     ]
    }
   ],
   "source": []
  },
  {
   "cell_type": "code",
   "execution_count": null,
   "id": "8f79be42-e68c-49c9-a96e-0b3d62c2c3f3",
   "metadata": {},
   "outputs": [],
   "source": []
  },
  {
   "cell_type": "code",
   "execution_count": 1,
   "id": "e57a5d2d-ef13-44dc-9ac6-7acdcf962c8f",
   "metadata": {},
   "outputs": [
    {
     "name": "stdout",
     "output_type": "stream",
     "text": [
      "{'eventType': 'purchase', 'customerId': '75366', 'productId': '8839', 'timestamp': '2024-07-05T16:00:05', 'metadata': {}, 'quantity': 2, 'totalAmount': 368.55, 'paymentMethod': 'Debit Card'}\n",
      "Event produced: {'eventType': 'purchase', 'customerId': '75366', 'productId': '8839', 'timestamp': '2024-07-05T16:00:05', 'metadata': {}, 'quantity': 2, 'totalAmount': 368.55, 'paymentMethod': 'Debit Card'}\n",
      "{'eventType': 'recommendationClick', 'customerId': '51348', 'productId': '5771', 'timestamp': '2024-07-05T16:00:05', 'metadata': {}, 'recommendedProductId': '8850', 'algorithm': 'collaborative_filtering'}\n",
      "Event produced: {'eventType': 'recommendationClick', 'customerId': '51348', 'productId': '5771', 'timestamp': '2024-07-05T16:00:05', 'metadata': {}, 'recommendedProductId': '8850', 'algorithm': 'collaborative_filtering'}\n",
      "{'eventType': 'recommendationClick', 'customerId': '70572', 'productId': '8930', 'timestamp': '2024-07-05T16:00:07', 'metadata': {}, 'recommendedProductId': '7704', 'algorithm': 'content_based'}\n",
      "Event produced: {'eventType': 'recommendationClick', 'customerId': '70572', 'productId': '8930', 'timestamp': '2024-07-05T16:00:07', 'metadata': {}, 'recommendedProductId': '7704', 'algorithm': 'content_based'}\n",
      "{'eventType': 'purchase', 'customerId': '69680', 'productId': '3706', 'timestamp': '2024-07-05T16:00:09', 'metadata': {}, 'quantity': 1, 'totalAmount': 145.29, 'paymentMethod': 'Credit Card'}\n",
      "Event produced: {'eventType': 'purchase', 'customerId': '69680', 'productId': '3706', 'timestamp': '2024-07-05T16:00:09', 'metadata': {}, 'quantity': 1, 'totalAmount': 145.29, 'paymentMethod': 'Credit Card'}\n",
      "{'eventType': 'recommendationClick', 'customerId': '27644', 'productId': '8745', 'timestamp': '2024-07-05T16:00:10', 'metadata': {}, 'recommendedProductId': '7539', 'algorithm': 'collaborative_filtering'}\n",
      "Event produced: {'eventType': 'recommendationClick', 'customerId': '27644', 'productId': '8745', 'timestamp': '2024-07-05T16:00:10', 'metadata': {}, 'recommendedProductId': '7539', 'algorithm': 'collaborative_filtering'}\n",
      "{'eventType': 'recommendationClick', 'customerId': '85427', 'productId': '3642', 'timestamp': '2024-07-05T16:00:12', 'metadata': {}, 'recommendedProductId': '5848', 'algorithm': 'collaborative_filtering'}\n",
      "Event produced: {'eventType': 'recommendationClick', 'customerId': '85427', 'productId': '3642', 'timestamp': '2024-07-05T16:00:12', 'metadata': {}, 'recommendedProductId': '5848', 'algorithm': 'collaborative_filtering'}\n",
      "{'eventType': 'purchase', 'customerId': '51494', 'productId': '6871', 'timestamp': '2024-07-05T16:00:13', 'metadata': {}, 'quantity': 4, 'totalAmount': 290.91, 'paymentMethod': 'Debit Card'}\n",
      "Event produced: {'eventType': 'purchase', 'customerId': '51494', 'productId': '6871', 'timestamp': '2024-07-05T16:00:13', 'metadata': {}, 'quantity': 4, 'totalAmount': 290.91, 'paymentMethod': 'Debit Card'}\n",
      "{'eventType': 'recommendationClick', 'customerId': '74621', 'productId': '9352', 'timestamp': '2024-07-05T16:00:14', 'metadata': {}, 'recommendedProductId': '6915', 'algorithm': 'content_based'}\n",
      "Event produced: {'eventType': 'recommendationClick', 'customerId': '74621', 'productId': '9352', 'timestamp': '2024-07-05T16:00:14', 'metadata': {}, 'recommendedProductId': '6915', 'algorithm': 'content_based'}\n",
      "{'eventType': 'addToCart', 'customerId': '31614', 'productId': '5324', 'timestamp': '2024-07-05T16:00:15', 'metadata': {}, 'quantity': 3}\n",
      "Event produced: {'eventType': 'addToCart', 'customerId': '31614', 'productId': '5324', 'timestamp': '2024-07-05T16:00:15', 'metadata': {}, 'quantity': 3}\n",
      "{'eventType': 'addToCart', 'customerId': '29502', 'productId': '5768', 'timestamp': '2024-07-05T16:00:16', 'metadata': {}, 'quantity': 2}\n",
      "Event produced: {'eventType': 'addToCart', 'customerId': '29502', 'productId': '5768', 'timestamp': '2024-07-05T16:00:16', 'metadata': {}, 'quantity': 2}\n"
     ]
    },
    {
     "ename": "KeyboardInterrupt",
     "evalue": "",
     "output_type": "error",
     "traceback": [
      "\u001b[0;31m---------------------------------------------------------------------------\u001b[0m",
      "\u001b[0;31mKeyboardInterrupt\u001b[0m                         Traceback (most recent call last)",
      "\u001b[0;32m<ipython-input-1-69b4879e57bd>\u001b[0m in \u001b[0;36m<module>\u001b[0;34m\u001b[0m\n\u001b[1;32m     57\u001b[0m \u001b[0;34m\u001b[0m\u001b[0m\n\u001b[1;32m     58\u001b[0m \u001b[0;32mif\u001b[0m \u001b[0m__name__\u001b[0m \u001b[0;34m==\u001b[0m \u001b[0;34m\"__main__\"\u001b[0m\u001b[0;34m:\u001b[0m\u001b[0;34m\u001b[0m\u001b[0;34m\u001b[0m\u001b[0m\n\u001b[0;32m---> 59\u001b[0;31m     \u001b[0mmain\u001b[0m\u001b[0;34m(\u001b[0m\u001b[0;34m)\u001b[0m\u001b[0;34m\u001b[0m\u001b[0;34m\u001b[0m\u001b[0m\n\u001b[0m",
      "\u001b[0;32m<ipython-input-1-69b4879e57bd>\u001b[0m in \u001b[0;36mmain\u001b[0;34m()\u001b[0m\n\u001b[1;32m     54\u001b[0m         \u001b[0mprint\u001b[0m\u001b[0;34m(\u001b[0m\u001b[0mevent\u001b[0m\u001b[0;34m)\u001b[0m\u001b[0;34m\u001b[0m\u001b[0;34m\u001b[0m\u001b[0m\n\u001b[1;32m     55\u001b[0m         \u001b[0msend_event\u001b[0m\u001b[0;34m(\u001b[0m\u001b[0mevent\u001b[0m\u001b[0;34m)\u001b[0m\u001b[0;34m\u001b[0m\u001b[0;34m\u001b[0m\u001b[0m\n\u001b[0;32m---> 56\u001b[0;31m         \u001b[0mtime\u001b[0m\u001b[0;34m.\u001b[0m\u001b[0msleep\u001b[0m\u001b[0;34m(\u001b[0m\u001b[0mrandom\u001b[0m\u001b[0;34m.\u001b[0m\u001b[0muniform\u001b[0m\u001b[0;34m(\u001b[0m\u001b[0;36m0.5\u001b[0m\u001b[0;34m,\u001b[0m \u001b[0;36m2\u001b[0m\u001b[0;34m)\u001b[0m\u001b[0;34m)\u001b[0m\u001b[0;34m\u001b[0m\u001b[0;34m\u001b[0m\u001b[0m\n\u001b[0m\u001b[1;32m     57\u001b[0m \u001b[0;34m\u001b[0m\u001b[0m\n\u001b[1;32m     58\u001b[0m \u001b[0;32mif\u001b[0m \u001b[0m__name__\u001b[0m \u001b[0;34m==\u001b[0m \u001b[0;34m\"__main__\"\u001b[0m\u001b[0;34m:\u001b[0m\u001b[0;34m\u001b[0m\u001b[0;34m\u001b[0m\u001b[0m\n",
      "\u001b[0;31mKeyboardInterrupt\u001b[0m: "
     ]
    }
   ],
   "source": [
    "from confluent_kafka import Producer\n",
    "import json\n",
    "import time\n",
    "import random\n",
    "\n",
    "\n",
    "conf = {\n",
    "    'bootstrap.servers': 'pkc-56d1g.eastus.azure.confluent.cloud:9092',\n",
    "    'security.protocol': 'SASL_SSL',\n",
    "    'sasl.mechanisms': 'PLAIN',\n",
    "    'sasl.username': 'JUKQQM4ZM632RECA',\n",
    "    'sasl.password': 'UUkrPuSttgOC0U9lY3ZansNsKfN9fbxZPFwrGxudDrfv+knTD4rCwK+KdIzVPX0D',\n",
    "}\n",
    "\n",
    "# add topic_name here \n",
    "topic = 'farid_topic'\n",
    "\n",
    "def generate_event(event_type):\n",
    "    event = {\n",
    "        \"eventType\": event_type,\n",
    "        \"customerId\": str(random.randint(10000, 99999)),\n",
    "        \"productId\": str(random.randint(1000, 9999)),\n",
    "        \"timestamp\": time.strftime('%Y-%m-%dT%H:%M:%S'),\n",
    "        \"metadata\": {}\n",
    "    }\n",
    "    \n",
    "    if event_type == \"productView\":\n",
    "        event[\"metadata\"][\"category\"] = random.choice([\"Electronics\", \"Clothing\", \"Home & Kitchen\", \"Books\"])\n",
    "        event[\"metadata\"][\"source\"] = random.choice([\"Advertisement\", \"Search\", \"Direct\"])\n",
    "    elif event_type == \"addToCart\":\n",
    "        event[\"quantity\"] = random.randint(1, 5)\n",
    "    elif event_type == \"purchase\":\n",
    "        event[\"quantity\"] = random.randint(1, 5)\n",
    "        event[\"totalAmount\"] = round(random.uniform(10, 500), 2)\n",
    "        event[\"paymentMethod\"] = random.choice([\"Credit Card\", \"Debit Card\", \"PayPal\"])\n",
    "    elif event_type == \"recommendationClick\":\n",
    "        event[\"recommendedProductId\"] = str(random.randint(1000, 9999))\n",
    "        event[\"algorithm\"] = random.choice([\"collaborative_filtering\", \"content_based\"])\n",
    "    return event\n",
    "\n",
    "producer = Producer(conf)\n",
    "\n",
    "def send_event(event):\n",
    "    try:\n",
    "        producer.produce(topic, json.dumps(event))\n",
    "        print(\"Event produced:\", event)\n",
    "    except Exception as e:\n",
    "        print(\"Error:\", e)\n",
    "\n",
    "def main():\n",
    "    while True:\n",
    "        event_type = random.choice([\"productView\", \"addToCart\", \"purchase\", \"recommendationClick\"])\n",
    "        event = generate_event(event_type)\n",
    "        print(event)\n",
    "        send_event(event)\n",
    "        time.sleep(random.uniform(0.5, 2))\n",
    "\n",
    "if __name__ == \"__main__\":\n",
    "    main()\n"
   ]
  },
  {
   "cell_type": "code",
   "execution_count": null,
   "id": "e3d4c7a7-02a5-4f43-bab3-f4607f27882e",
   "metadata": {},
   "outputs": [],
   "source": []
  },
  {
   "cell_type": "code",
   "execution_count": null,
   "id": "1140fd1f-6f89-4f12-be24-6d83776f22ec",
   "metadata": {},
   "outputs": [],
   "source": []
  }
 ],
 "metadata": {
  "kernelspec": {
   "display_name": "Pyspark 3",
   "language": "python",
   "name": "pyspark3"
  },
  "language_info": {
   "codemirror_mode": {
    "name": "ipython",
    "version": 3
   },
   "file_extension": ".py",
   "mimetype": "text/x-python",
   "name": "python",
   "nbconvert_exporter": "python",
   "pygments_lexer": "ipython3",
   "version": "3.6.9"
  },
  "toc-autonumbering": true,
  "toc-showcode": true
 },
 "nbformat": 4,
 "nbformat_minor": 5
}
