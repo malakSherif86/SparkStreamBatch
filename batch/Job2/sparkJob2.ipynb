{
 "cells": [
  {
   "cell_type": "code",
   "execution_count": 49,
   "id": "57dbe1e6-fa6e-4f90-b75f-71c0630e1502",
   "metadata": {},
   "outputs": [],
   "source": [
    "import pyspark\n",
    "from pyspark.sql import SparkSession, Row, SQLContext\n",
    "from pyspark.conf import SparkConf\n",
    "from pyspark.context import SparkContext\n",
    "from datetime import datetime, timedelta\n",
    "from pyspark.sql.types import *\n",
    "from pyspark.sql import SparkSession\n",
    "from pyspark.sql.functions import col, expr, sum\n",
    "from datetime import datetime, timedelta\n",
    "import os"
   ]
  },
  {
   "cell_type": "code",
   "execution_count": 50,
   "id": "67e56c36-342e-4821-9c22-e7623d392b2d",
   "metadata": {},
   "outputs": [],
   "source": [
    "\n",
    "\n",
    "spark = SparkSession\\\n",
    "    .builder\\\n",
    "    .master(\"local[4]\")\\\n",
    "    .appName(\"sparkJob2\")\\\n",
    "    .config(\"spark.eventLog.logBlockUpdates.enabled\", True)\\\n",
    "    .enableHiveSupport() \\\n",
    "    .getOrCreate()\n",
    "\n",
    "sc = spark.sparkContext"
   ]
  },
  {
   "cell_type": "code",
   "execution_count": 46,
   "id": "b415ca89-6fa9-41da-9f3e-d1e1a6bfb0a9",
   "metadata": {},
   "outputs": [
    {
     "data": {
      "text/plain": [
       "557500"
      ]
     },
     "execution_count": 46,
     "metadata": {},
     "output_type": "execute_result"
    }
   ],
   "source": [
    "#add the path for the hive table on hdfs \n",
    "\n",
    "\n",
    "from pyspark.sql.functions import col, current_date, date_sub, to_date\n",
    "tranformed_data = spark.read.orc(\"/user/hive/warehouse/transactionsdb.db/transactions_table/*\")\n",
    "tranformed_data.count()\n",
    "\n",
    "\n"
   ]
  },
  {
   "cell_type": "code",
   "execution_count": 47,
   "id": "fbb74757-0459-49c7-b731-8c5e4c65f6dd",
   "metadata": {},
   "outputs": [
    {
     "data": {
      "text/plain": [
       "824"
      ]
     },
     "execution_count": 47,
     "metadata": {},
     "output_type": "execute_result"
    }
   ],
   "source": [
    "\n",
    "# Convert the 'transaction_date' to date type (assuming it's in 'yyyy-MM-dd' format, adjust format as needed)\n",
    "transformed_data = tranformed_data.withColumn(\"transaction_date\", to_date(col(\"transaction_date\"), \"yyyy-MM-dd\"))\n",
    "\n",
    "# Define the date 1.5 years ago from today\n",
    "one_and_half_years_ago = date_sub(current_date(), int(1.5 * 365)+1)  # 1.5 years in days\n",
    "\n",
    "# Filter the data where transaction_date is within the last 1.5 years\n",
    "filtered_data = tranformed_data.filter(col(\"transaction_date\") == one_and_half_years_ago)\n",
    "\n",
    "filtered_data.count()\n",
    "\n"
   ]
  },
  {
   "cell_type": "code",
   "execution_count": 51,
   "id": "d1a5e892-9c8c-486b-be4b-690262902372",
   "metadata": {},
   "outputs": [
    {
     "name": "stdout",
     "output_type": "stream",
     "text": [
      "+----------------+----------------+-----------+--------------+--------------+---------------------------+--------------+---------+----------+-----------------+----------------+-------+-------+-------+-------+-------+-----+----------+---------+--------------+----------------+----+------+---------+------------------+---------+----+-----+\n",
      "|transaction_date|transaction_id  |customer_id|customer_fname|cusomter_lname|cusomter_email             |sales_agent_id|branch_id|product_id|product_name     |product_category|offer_1|offer_2|offer_3|offer_4|offer_5|units|unit_price|is_online|payment_method|shipping_address|logs|source|discounts|total_paid        |city     |Year|Month|\n",
      "+----------------+----------------+-----------+--------------+--------------+---------------------------+--------------+---------+----------+-----------------+----------------+-------+-------+-------+-------+-------+-----+----------+---------+--------------+----------------+----+------+---------+------------------+---------+----+-----+\n",
      "|2023-01-04      |trx-927594255235|85511      |Alexander     |Moore         |alexander.moore@yahoo.com}4|6             |6        |14        |Camera           |Electronics     |null   |null   |null   |null   |null   |4    |399.99    |no       |Credit Card   |null            |null|null  |0.0      |1599.96           |not found|2023|1    |\n",
      "|2023-01-04      |trx-118552684232|85527      |Emma          |Miller        |emma.miller@outlook.com}4  |10            |4        |29        |Hair Straightener|Appliances      |null   |null   |null   |null   |null   |6    |39.99     |no       |Cash          |null            |null|null  |0.0      |239.94            |not found|2023|1    |\n",
      "|2023-01-04      |trx-837062780813|85521      |Olivia        |Moore         |olivia.moore@outlook.com'  |3             |3        |15        |Hoodie           |Clothing        |null   |null   |null   |null   |null   |7    |29.99     |no       |Cash          |null            |null|null  |0.0      |209.92999999999998|not found|2023|1    |\n",
      "|2023-01-04      |trx-472657142991|85481      |Emma          |Johnson       |emma.johnson@gmail.com<    |11            |2        |29        |Hair Straightener|Appliances      |null   |True   |null   |null   |null   |3    |39.99     |no       |Credit Card   |null            |null|null  |0.1      |107.973           |not found|2023|1    |\n",
      "|2023-01-04      |trx-882563113707|85547      |Olivia        |Smith         |olivia.smith@outlook.com#4r|6             |6        |27        |Iron             |Appliances      |True   |null   |null   |null   |null   |9    |29.99     |no       |Credit Card   |null            |null|null  |0.05     |256.4145          |not found|2023|1    |\n",
      "|2023-01-04      |trx-661406376709|85549      |Olivia        |Brown         |olivia.brown@hotmail.com]x |4             |4        |9         |Boots            |Footwear        |True   |null   |null   |null   |null   |10   |129.99    |no       |Cash          |null            |null|null  |0.05     |1234.9050000000002|not found|2023|1    |\n",
      "|2023-01-04      |trx-605612078911|85503      |William       |Jones         |william.jones@gmail.com]x  |8             |6        |7         |Dress            |Clothing        |null   |null   |True   |null   |null   |4    |59.99     |no       |Credit Card   |null            |null|null  |0.15     |203.966           |not found|2023|1    |\n",
      "|2023-01-04      |trx-868939982235|85525      |Ava           |Jones         |ava.jones@yahoo.com'       |1             |6        |14        |Camera           |Electronics     |null   |True   |null   |null   |null   |6    |399.99    |no       |Credit Card   |null            |null|null  |0.1      |2159.946          |not found|2023|1    |\n",
      "|2023-01-04      |trx-108134435678|85561      |Emma          |Wilson        |emma.wilson@outlook.com*   |2             |5        |7         |Dress            |Clothing        |null   |null   |null   |True   |null   |4    |59.99     |no       |Credit Card   |null            |null|null  |0.2      |191.96800000000002|not found|2023|1    |\n",
      "|2023-01-04      |trx-341092229966|85466      |William       |Moore         |william.moore@hotmail.com* |1             |2        |13        |Printer          |Electronics     |null   |null   |null   |null   |null   |10   |149.99    |no       |Credit Card   |null            |null|null  |0.0      |1499.9            |not found|2023|1    |\n",
      "|2023-01-04      |trx-130375942890|85528      |John          |Jones         |john.jones@yahoo.com(      |9             |4        |7         |Dress            |Clothing        |null   |null   |null   |True   |null   |9    |59.99     |no       |Cash          |null            |null|null  |0.2      |431.928           |not found|2023|1    |\n",
      "|2023-01-04      |trx-707447074638|85525      |Ava           |Jones         |ava.jones@yahoo.com#4r     |4             |6        |25        |Washing Machine  |Appliances      |null   |True   |null   |null   |null   |3    |499.99    |no       |Credit Card   |null            |null|null  |0.1      |1349.973          |not found|2023|1    |\n",
      "|2023-01-04      |trx-052011688358|85463      |Ava           |Miller        |ava.miller@gmail.com$u     |4             |4        |28        |Hair Dryer       |Appliances      |null   |null   |null   |null   |null   |8    |19.99     |no       |Credit Card   |null            |null|null  |0.0      |159.92            |not found|2023|1    |\n",
      "|2023-01-04      |trx-305246396871|85507      |Olivia        |Moore         |olivia.moore@hotmail.com[  |2             |4        |2         |Smartphone       |Electronics     |null   |null   |null   |null   |null   |8    |699.99    |no       |Cash          |null            |null|null  |0.0      |5599.92           |not found|2023|1    |\n",
      "|2023-01-04      |trx-157157315028|85505      |Emma          |Davis         |emma.davis@gmail.com;      |6             |1        |18        |Boots            |Footwear        |null   |null   |null   |null   |null   |3    |149.99    |no       |Credit Card   |null            |null|null  |0.0      |449.97            |not found|2023|1    |\n",
      "|2023-01-04      |trx-786295536089|85549      |Olivia        |Brown         |olivia.brown@hotmail.com{  |9             |1        |29        |Hair Straightener|Appliances      |null   |null   |null   |null   |null   |4    |39.99     |no       |Credit Card   |null            |null|null  |0.0      |159.96            |not found|2023|1    |\n",
      "|2023-01-04      |trx-004391283360|85491      |Emma          |Williams      |emma.williams@gmail.com<   |9             |4        |21        |Microwave        |Appliances      |null   |null   |null   |null   |True   |10   |129.99    |no       |Cash          |null            |null|null  |0.25     |974.9250000000001 |not found|2023|1    |\n",
      "|2023-01-04      |trx-439869386403|85560      |Emma          |Wilson        |emma.wilson@gmail.com[     |4             |1        |29        |Hair Straightener|Appliances      |null   |null   |True   |null   |null   |3    |39.99     |no       |Credit Card   |null            |null|null  |0.15     |101.9745          |not found|2023|1    |\n",
      "|2023-01-04      |trx-992224155022|85490      |John          |Miller        |john.miller@yahoo.com;     |9             |4        |1         |Laptop           |Electronics     |null   |null   |True   |null   |null   |1    |999.99    |no       |Cash          |null            |null|null  |0.15     |849.9915          |not found|2023|1    |\n",
      "|2023-01-04      |trx-525845944671|85532      |William       |Taylor        |william.taylor@yahoo.com\\  |1             |3        |23        |Toaster          |Appliances      |null   |True   |null   |null   |null   |4    |39.99     |no       |Cash          |null            |null|null  |0.1      |143.964           |not found|2023|1    |\n",
      "+----------------+----------------+-----------+--------------+--------------+---------------------------+--------------+---------+----------+-----------------+----------------+-------+-------+-------+-------+-------+-----+----------+---------+--------------+----------------+----+------+---------+------------------+---------+----+-----+\n",
      "only showing top 20 rows\n",
      "\n"
     ]
    }
   ],
   "source": [
    "# Show the filtered DataFrame\n",
    "filtered_data.show(truncate=False)"
   ]
  },
  {
   "cell_type": "code",
   "execution_count": 64,
   "id": "6156a6d5-e5ee-4adc-bf36-d53c129f3f64",
   "metadata": {},
   "outputs": [
    {
     "name": "stdout",
     "output_type": "stream",
     "text": [
      "Directory Path: /finalData/spark_project/sales_agents2/date(2024-07-04)\n"
     ]
    }
   ],
   "source": [
    "from datetime import datetime, timedelta\n",
    "\n",
    "# Function to get the previous day's date and the hour from 23 hours ago\n",
    "def get_last_hour():\n",
    "    now = datetime.now()\n",
    "    last_day = now - timedelta(days=1)  # Subtract one day\n",
    "    return last_day.strftime(\"%Y-%m-%d\"), \"23\"  # Return previous day and hour 23\n",
    "\n",
    "# Get the date and hour for the last hour\n",
    "target_date, target_hour = get_last_hour()\n",
    "\n",
    "# Base directory where your data is stored\n",
    "base_dir = \"/finalData/spark_project/sales_agents2\"\n",
    "dynamic_dir = f\"date({target_date})\"\n",
    "\n",
    "# Full path to the directory\n",
    "directory_path = os.path.join(base_dir, dynamic_dir)\n",
    "\n",
    "# Print the directory path for debugging\n",
    "print(\"Directory Path:\", directory_path)\n",
    "\n",
    "# Use glob to list all files in the directory\n",
    "import glob\n",
    "\n",
    "file_pattern = os.path.join(directory_path, '*')\n",
    "all_files = glob.glob(file_pattern)\n",
    "\n",
    "\n"
   ]
  },
  {
   "cell_type": "code",
   "execution_count": 65,
   "id": "d46c1ed8-0e8c-4f50-afae-cf26346ee152",
   "metadata": {},
   "outputs": [
    {
     "data": {
      "text/plain": [
       "63"
      ]
     },
     "execution_count": 65,
     "metadata": {},
     "output_type": "execute_result"
    }
   ],
   "source": [
    "agents = spark.read.csv(directory_path, header=True)\n",
    "agents.count()"
   ]
  },
  {
   "cell_type": "code",
   "execution_count": 66,
   "id": "7a089785-d9f6-49a3-bd07-30945f0f6d2b",
   "metadata": {},
   "outputs": [
    {
     "data": {
      "text/plain": [
       "11"
      ]
     },
     "execution_count": 66,
     "metadata": {},
     "output_type": "execute_result"
    }
   ],
   "source": [
    "agents = agents.dropDuplicates([\"sales_person_id\"])\n",
    "agents.count()"
   ]
  },
  {
   "cell_type": "code",
   "execution_count": 67,
   "id": "c60ba8ef-e510-42f8-8d9c-5c4505e53651",
   "metadata": {},
   "outputs": [],
   "source": [
    "# Perform join and aggregation\n",
    "result_df = tranformed_data.join(agents, tranformed_data.sales_agent_id == agents.sales_person_id, \"inner\") \\\n",
    "                          .groupBy(\"name\", \"product_name\") \\\n",
    "                          .agg(sum(\"units\").alias(\"total_sold_units\")) \\\n",
    "                          .select(\"name\", \"product_name\", \"total_sold_units\")\n"
   ]
  },
  {
   "cell_type": "code",
   "execution_count": 68,
   "id": "02845d63-5c5d-4a41-b64f-537bf4a20df4",
   "metadata": {},
   "outputs": [
    {
     "name": "stdout",
     "output_type": "stream",
     "text": [
      "+------------------+-----------------+----------------+\n",
      "|              name|     product_name|total_sold_units|\n",
      "+------------------+-----------------+----------------+\n",
      "|        Jane Smith|           Hoodie|          8664.0|\n",
      "|          John Doe|             Iron|          8505.0|\n",
      "|   Michael Johnson|               TV|          8310.0|\n",
      "|          John Doe|          Sandals|         16600.0|\n",
      "|      Sophia Moore|  Electric Kettle|          8338.0|\n",
      "|      Olivia Davis|           Blouse|          8182.0|\n",
      "|       Emily Brown|        Microwave|          8400.0|\n",
      "|          John Doe|            Heels|          8364.0|\n",
      "|Christopher Miller|            Heels|          8567.0|\n",
      "|      David Wilson|  Washing Machine|          8389.0|\n",
      "|Christopher Miller|          Monitor|          8239.0|\n",
      "|       Emma Taylor|            Skirt|          8510.0|\n",
      "|          John Doe|            Boots|         16591.0|\n",
      "|Christopher Miller|Hair Straightener|          8374.0|\n",
      "|   Michael Johnson|           Hoodie|          7868.0|\n",
      "|       Emma Taylor|            Heels|          8318.0|\n",
      "|       Emily Brown|            Boots|         16713.0|\n",
      "|        Jane Smith|          T-Shirt|          8636.0|\n",
      "|Christopher Miller|       Hair Dryer|          8501.0|\n",
      "|          John Doe|  Washing Machine|          8713.0|\n",
      "+------------------+-----------------+----------------+\n",
      "only showing top 20 rows\n",
      "\n"
     ]
    },
    {
     "data": {
      "text/plain": [
       "308"
      ]
     },
     "execution_count": 68,
     "metadata": {},
     "output_type": "execute_result"
    }
   ],
   "source": [
    "result_df.show()\n",
    "result_df.count()"
   ]
  },
  {
   "cell_type": "code",
   "execution_count": 69,
   "id": "6d3a6a10-89dc-4f6b-8f0a-e6627de629b5",
   "metadata": {},
   "outputs": [],
   "source": [
    "df = result_df.coalesce(1)\n"
   ]
  },
  {
   "cell_type": "code",
   "execution_count": 70,
   "id": "eb759ca0-468e-47ef-9095-6699dbf723c4",
   "metadata": {},
   "outputs": [],
   "source": [
    "# Write the DataFrame to a local CSV file with a header\n",
    "df.write.option(\"header\", \"true\").csv(\"file:///data/daily_dumb/daily_dumb.csv\")\n"
   ]
  },
  {
   "cell_type": "code",
   "execution_count": null,
   "id": "195b5b4d-50c3-4fe8-aa2b-762719483998",
   "metadata": {},
   "outputs": [],
   "source": []
  }
 ],
 "metadata": {
  "kernelspec": {
   "display_name": "Pyspark 3",
   "language": "python",
   "name": "pyspark3"
  },
  "language_info": {
   "codemirror_mode": {
    "name": "ipython",
    "version": 3
   },
   "file_extension": ".py",
   "mimetype": "text/x-python",
   "name": "python",
   "nbconvert_exporter": "python",
   "pygments_lexer": "ipython3",
   "version": "3.6.9"
  }
 },
 "nbformat": 4,
 "nbformat_minor": 5
}
